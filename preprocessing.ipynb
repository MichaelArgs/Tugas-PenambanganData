{
  "nbformat": 4,
  "nbformat_minor": 0,
  "metadata": {
    "colab": {
      "provenance": [],
      "authorship_tag": "ABX9TyNqwL7xKNE7PP5UMiSG8+2n"
    },
    "kernelspec": {
      "name": "python3",
      "display_name": "Python 3"
    },
    "language_info": {
      "name": "python"
    }
  },
  "cells": [
    {
      "cell_type": "code",
      "execution_count": 127,
      "metadata": {
        "id": "f4MvswGuq_gE"
      },
      "outputs": [],
      "source": [
        "import numpy as np\n",
        "import matplotlib.pyplot as plt\n",
        "import pandas as pd"
      ]
    },
    {
      "cell_type": "code",
      "source": [
        "data = pd.read_csv('Inflation.csv')\n",
        "X= dataset.iloc[:, :-1].values\n",
        "y= dataset.iloc[:, -1].values"
      ],
      "metadata": {
        "id": "rFwo7JutvH5m"
      },
      "execution_count": 128,
      "outputs": []
    },
    {
      "cell_type": "code",
      "source": [
        "print(X)"
      ],
      "metadata": {
        "colab": {
          "base_uri": "https://localhost:8080/"
        },
        "id": "O2NTRL5OvXsB",
        "outputId": "12a0a665-2e07-4f75-863f-3d15f8348317"
      },
      "execution_count": 129,
      "outputs": [
        {
          "output_type": "stream",
          "name": "stdout",
          "text": [
            "[['Sudan' 138.8 1]\n",
            " ['Zimbabwe' 104.7 2]\n",
            " ['Turkey' 72.3 3]\n",
            " ['Suriname' 52.4 4]\n",
            " ['Sri Lanka' 49.7 5]\n",
            " ['Haiti' 34.0 6]\n",
            " ['Ghana' 31.3 7]\n",
            " ['Moldova' 28.7 8]\n",
            " ['Sierra Leone' 27.2 9]\n",
            " ['Laos' 23.0 10]\n",
            " ['Malawi' 21.0 11]\n",
            " ['Ukraine' 20.2 12]\n",
            " ['Pakistan' 19.9 13]\n",
            " ['Lithuania' 19.7 14]\n",
            " ['Estonia' 19.4 15]\n",
            " ['Burundi' 18.8 16]\n",
            " ['Nigeria' 18.8 17]\n",
            " ['S.T.&Principe' 18.0 18]\n",
            " ['Rwanda' 17.7 19]\n",
            " ['Latvia' 17.3 20]\n",
            " ['Bulgaria' 15.3 21]\n",
            " ['Belarus' 15.2 22]\n",
            " ['Czechia' 15.1 23]\n",
            " ['Mongolia' 15.1 24]\n",
            " ['Hungary' 14.6 25]\n",
            " ['Poland' 14.4 26]\n",
            " ['Burkina Faso' 14.3 27]\n",
            " ['North Macedonia' 14.2 28]\n",
            " ['Bosnia & Herz.' 14.0 29]\n",
            " ['Azerbaijan' 13.9 30]\n",
            " ['Egypt' 13.9 31]\n",
            " ['Kyrgyzstan' 13.9 32]\n",
            " ['Romania' 13.8 33]\n",
            " ['Montenegro' 13.0 34]\n",
            " ['Slovakia' 12.8 35]\n",
            " ['Palau' 12.4 36]\n",
            " ['Serbia' 12.0 37]\n",
            " ['Georgia' 11.9 38]\n",
            " ['Botswana' 11.7 39]\n",
            " ['Chile' 11.6 40]\n",
            " ['Gambia' 11.5 41]\n",
            " ['Uzbekistan' 11.4 42]\n",
            " ['Samoa' 11.0 43]\n",
            " ['Tonga' 11.0 44]\n",
            " ['Zambia' 11.0 45]\n",
            " ['Croatia' 10.8 46]\n",
            " ['Mauritius' 10.8 47]\n",
            " ['Guinea' 10.5 48]\n",
            " ['Nicaragua' 10.5 49]\n",
            " ['Jamaica' 10.3 50]\n",
            " ['Mozambique' 10.3 51]\n",
            " ['Colombia' 10.2 52]\n",
            " ['Netherlands' 10.0 53]\n",
            " ['Paraguay' 9.8 54]\n",
            " ['Senegal' 9.7 55]\n",
            " ['Belgium' 9.6 56]\n",
            " ['Greece' 9.6 57]\n",
            " ['Mauritania' 9.5 58]\n",
            " ['G.-Bissau' 9.4 59]\n",
            " ['Algeria' 9.3 60]\n",
            " ['Brazil' 9.3 61]\n",
            " ['Honduras' 9.1 62]\n",
            " ['Uruguay' 9.1 63]\n",
            " ['Domin. Rep.' 8.8 64]\n",
            " ['Slovenia' 8.8 65]\n",
            " ['Armenia' 8.6 66]\n",
            " ['Austria' 8.5 67]\n",
            " ['Cyprus' 8.4 68]\n",
            " ['Spain' 8.4 69]\n",
            " ['Sweden' 8.4 70]\n",
            " ['Costa Rica' 8.3 71]\n",
            " ['Iceland' 8.3 72]\n",
            " ['Lesotho' 8.3 73]\n",
            " ['Peru' 8.3 74]\n",
            " ['Tunisia' 8.3 75]\n",
            " ['Italy' 8.2 76]\n",
            " ['Madagascar' 8.2 77]\n",
            " ['Togo' 8.0 78]\n",
            " ['USA' 8.0 79]\n",
            " ['Mexico' 7.9 80]\n",
            " ['UK' 7.9 81]\n",
            " ['Ireland' 7.8 82]\n",
            " ['Portugal' 7.8 83]\n",
            " ['Bangladesh' 7.7 84]\n",
            " ['Denmark' 7.7 85]\n",
            " ['Kenya' 7.7 86]\n",
            " ['Ant.& Barb.' 7.5 87]\n",
            " ['El Salvador' 7.2 88]\n",
            " ['New Zealand' 7.2 89]\n",
            " ['Uganda' 7.2 90]\n",
            " ['Finland' 7.1 91]\n",
            " ['South Africa' 7.0 92]\n",
            " ['Germany' 6.9 93]\n",
            " ['Guatemala' 6.9 94]\n",
            " ['Canada' 6.8 95]\n",
            " ['Albania' 6.7 96]\n",
            " ['India' 6.7 97]\n",
            " ['Morocco' 6.7 98]\n",
            " ['Australia' 6.6 99]\n",
            " ['Saint Lucia' 6.4 100]\n",
            " ['Luxembourg' 6.3 101]\n",
            " ['Cameroon' 6.2 102]\n",
            " ['Malta' 6.2 103]\n",
            " ['Namibia' 6.1 104]\n",
            " ['Singapore' 6.1 105]\n",
            " ['Thailand' 6.1 106]\n",
            " ['Chad' 5.8 107]\n",
            " ['Norway' 5.8 108]\n",
            " ['Philippines' 5.8 109]\n",
            " ['St. Vincent & ...' 5.7 110]\n",
            " ['Bahamas' 5.6 111]\n",
            " ['Bhutan' 5.6 112]\n",
            " ['C.A. Republic' 5.6 113]\n",
            " ['Solomon Isl.' 5.5 114]\n",
            " ['Micronesia' 5.4 115]\n",
            " ['Cambodia' 5.3 116]\n",
            " ['Ivory Coast' 5.3 117]\n",
            " ['Djibouti' 5.2 118]\n",
            " ['France' 5.2 119]\n",
            " ['South Korea' 5.1 120]\n",
            " ['Iraq' 5.0 121]\n",
            " ['Qatar' 5.0 122]\n",
            " ['Eq. Guinea' 4.8 123]\n",
            " ['UA Emirates' 4.8 124]\n",
            " ['Fiji' 4.5 125]\n",
            " ['Israel' 4.4 126]\n",
            " ['Tanzania' 4.4 127]\n",
            " ['Gabon' 4.2 128]\n",
            " ['Indonesia' 4.2 129]\n",
            " ['Jordan' 4.2 130]\n",
            " ['Niger' 4.2 131]\n",
            " ['Brunei' 3.7 132]\n",
            " ['Bahrain' 3.6 133]\n",
            " ['Ecuador' 3.5 134]\n",
            " ['Malaysia' 3.4 135]\n",
            " ['Vietnam' 3.2 136]\n",
            " ['R. of Congo' 3.0 137]\n",
            " ['Panama' 2.9 138]\n",
            " ['Oman' 2.8 139]\n",
            " ['Switzerland' 2.8 140]\n",
            " ['Japan' 2.5 141]\n",
            " ['Saudi Arabia' 2.5 142]\n",
            " ['Maldives' 2.3 143]\n",
            " ['China' 2.0 144]\n",
            " ['Hong Kong' 1.9 145]\n",
            " ['Bolivia' 1.7 146]\n",
            " ['Benin' 1.4 147]\n",
            " ['Macao' 1.0 148]]\n"
          ]
        }
      ]
    },
    {
      "cell_type": "code",
      "source": [
        "print(y)"
      ],
      "metadata": {
        "colab": {
          "base_uri": "https://localhost:8080/"
        },
        "id": "MXyQY5GkvZXl",
        "outputId": "36fa6a5e-1164-4497-b994-06a7d84cdc58"
      },
      "execution_count": 130,
      "outputs": [
        {
          "output_type": "stream",
          "name": "stdout",
          "text": [
            "['1960 - 2022' '2010 - 2022' '1960 - 2022' '1960 - 2022' '1960 - 2022'\n",
            " '1960 - 2022' '1965 - 2022' '1992 - 2022' '2007 - 2022' '1989 - 2022'\n",
            " '1981 - 2022' '1993 - 2022' '1960 - 2022' '1992 - 2022' '1993 - 2022'\n",
            " '1966 - 2022' '1960 - 2022' '1997 - 2022' '1967 - 2022' '1992 - 2022'\n",
            " '1986 - 2022' '1993 - 2022' '1992 - 2022' '1993 - 2022' '1973 - 2022'\n",
            " '1971 - 2022' '1960 - 2022' '1994 - 2022' '2006 - 2022' '1992 - 2022'\n",
            " '1960 - 2022' '1996 - 2022' '1991 - 2022' '2006 - 2022' '1992 - 2022'\n",
            " '2002 - 2022' '1995 - 2022' '1995 - 2022' '1975 - 2022' '1971 - 2022'\n",
            " '1962 - 2022' '2011 - 2022' '1962 - 2022' '1976 - 2022' '1986 - 2022'\n",
            " '1986 - 2022' '1964 - 2022' '2005 - 2022' '2000 - 2022' '1960 - 2022'\n",
            " '2005 - 2022' '1960 - 2022' '1960 - 2022' '1960 - 2022' '1968 - 2022'\n",
            " '1960 - 2022' '1960 - 2022' '1986 - 2022' '1988 - 2022' '1970 - 2022'\n",
            " '1981 - 2022' '1960 - 2022' '1960 - 2022' '1960 - 2022' '1981 - 2022'\n",
            " '1994 - 2022' '1960 - 2022' '1960 - 2022' '1960 - 2022' '1960 - 2022'\n",
            " '1960 - 2022' '1960 - 2022' '1974 - 2022' '1960 - 2022' '1984 - 2022'\n",
            " '1960 - 2022' '1965 - 2022' '1967 - 2022' '1960 - 2022' '1960 - 2022'\n",
            " '1960 - 2022' '1960 - 2022' '1960 - 2022' '1987 - 2022' '1960 - 2022'\n",
            " '1960 - 2022' '1999 - 2022' '1960 - 2022' '1960 - 2022' '1994 - 2022'\n",
            " '1960 - 2022' '1960 - 2022' '1960 - 2022' '1960 - 2022' '1960 - 2022'\n",
            " '1992 - 2022' '1960 - 2022' '1960 - 2022' '1960 - 2022' '1966 - 2022'\n",
            " '1960 - 2022' '1969 - 2022' '1960 - 2022' '2003 - 2022' '1961 - 2022'\n",
            " '1960 - 2022' '1984 - 2022' '1960 - 2022' '1960 - 2022' '1975 - 2022'\n",
            " '1967 - 2022' '1981 - 2022' '1981 - 2022' '1972 - 2022' '2000 - 2022'\n",
            " '1995 - 2022' '1961 - 2022' '1980 - 2022' '1960 - 2022' '1960 - 2022'\n",
            " '1960 - 2022' '1980 - 2022' '1986 - 2022' '2008 - 2022' '1970 - 2022'\n",
            " '1960 - 2022' '1966 - 2022' '1963 - 2022' '1960 - 2022' '1970 - 2022'\n",
            " '1964 - 2022' '1981 - 2022' '1966 - 2022' '1960 - 2022' '1960 - 2022'\n",
            " '1996 - 2022' '1986 - 2022' '1960 - 2022' '2001 - 2022' '1960 - 2022'\n",
            " '1960 - 2022' '1964 - 2022' '1986 - 2022' '1987 - 2022' '1982 - 2022'\n",
            " '1960 - 2022' '1993 - 2022' '1989 - 2022']\n"
          ]
        }
      ]
    },
    {
      "cell_type": "code",
      "source": [
        "from sklearn.impute import SimpleImputer\n",
        "imputer = SimpleImputer(missing_values=np.nan, strategy='mean')\n",
        "imputer.fit(X[:, 1:3])\n",
        "X[:, 1:3] = imputer.transform(X[:, 1:3])"
      ],
      "metadata": {
        "id": "6nOP9VM_vlVT"
      },
      "execution_count": 131,
      "outputs": []
    },
    {
      "cell_type": "code",
      "source": [
        "print(X)"
      ],
      "metadata": {
        "colab": {
          "base_uri": "https://localhost:8080/"
        },
        "id": "Lnnx4FzPvwS_",
        "outputId": "7b0374b4-2f1d-474c-b53a-1455ee484076"
      },
      "execution_count": 132,
      "outputs": [
        {
          "output_type": "stream",
          "name": "stdout",
          "text": [
            "[['Sudan' 138.8 1.0]\n",
            " ['Zimbabwe' 104.7 2.0]\n",
            " ['Turkey' 72.3 3.0]\n",
            " ['Suriname' 52.4 4.0]\n",
            " ['Sri Lanka' 49.7 5.0]\n",
            " ['Haiti' 34.0 6.0]\n",
            " ['Ghana' 31.3 7.0]\n",
            " ['Moldova' 28.7 8.0]\n",
            " ['Sierra Leone' 27.2 9.0]\n",
            " ['Laos' 23.0 10.0]\n",
            " ['Malawi' 21.0 11.0]\n",
            " ['Ukraine' 20.2 12.0]\n",
            " ['Pakistan' 19.9 13.0]\n",
            " ['Lithuania' 19.7 14.0]\n",
            " ['Estonia' 19.4 15.0]\n",
            " ['Burundi' 18.8 16.0]\n",
            " ['Nigeria' 18.8 17.0]\n",
            " ['S.T.&Principe' 18.0 18.0]\n",
            " ['Rwanda' 17.7 19.0]\n",
            " ['Latvia' 17.3 20.0]\n",
            " ['Bulgaria' 15.3 21.0]\n",
            " ['Belarus' 15.2 22.0]\n",
            " ['Czechia' 15.1 23.0]\n",
            " ['Mongolia' 15.1 24.0]\n",
            " ['Hungary' 14.6 25.0]\n",
            " ['Poland' 14.4 26.0]\n",
            " ['Burkina Faso' 14.3 27.0]\n",
            " ['North Macedonia' 14.2 28.0]\n",
            " ['Bosnia & Herz.' 14.0 29.0]\n",
            " ['Azerbaijan' 13.9 30.0]\n",
            " ['Egypt' 13.9 31.0]\n",
            " ['Kyrgyzstan' 13.9 32.0]\n",
            " ['Romania' 13.8 33.0]\n",
            " ['Montenegro' 13.0 34.0]\n",
            " ['Slovakia' 12.8 35.0]\n",
            " ['Palau' 12.4 36.0]\n",
            " ['Serbia' 12.0 37.0]\n",
            " ['Georgia' 11.9 38.0]\n",
            " ['Botswana' 11.7 39.0]\n",
            " ['Chile' 11.6 40.0]\n",
            " ['Gambia' 11.5 41.0]\n",
            " ['Uzbekistan' 11.4 42.0]\n",
            " ['Samoa' 11.0 43.0]\n",
            " ['Tonga' 11.0 44.0]\n",
            " ['Zambia' 11.0 45.0]\n",
            " ['Croatia' 10.8 46.0]\n",
            " ['Mauritius' 10.8 47.0]\n",
            " ['Guinea' 10.5 48.0]\n",
            " ['Nicaragua' 10.5 49.0]\n",
            " ['Jamaica' 10.3 50.0]\n",
            " ['Mozambique' 10.3 51.0]\n",
            " ['Colombia' 10.2 52.0]\n",
            " ['Netherlands' 10.0 53.0]\n",
            " ['Paraguay' 9.8 54.0]\n",
            " ['Senegal' 9.7 55.0]\n",
            " ['Belgium' 9.6 56.0]\n",
            " ['Greece' 9.6 57.0]\n",
            " ['Mauritania' 9.5 58.0]\n",
            " ['G.-Bissau' 9.4 59.0]\n",
            " ['Algeria' 9.3 60.0]\n",
            " ['Brazil' 9.3 61.0]\n",
            " ['Honduras' 9.1 62.0]\n",
            " ['Uruguay' 9.1 63.0]\n",
            " ['Domin. Rep.' 8.8 64.0]\n",
            " ['Slovenia' 8.8 65.0]\n",
            " ['Armenia' 8.6 66.0]\n",
            " ['Austria' 8.5 67.0]\n",
            " ['Cyprus' 8.4 68.0]\n",
            " ['Spain' 8.4 69.0]\n",
            " ['Sweden' 8.4 70.0]\n",
            " ['Costa Rica' 8.3 71.0]\n",
            " ['Iceland' 8.3 72.0]\n",
            " ['Lesotho' 8.3 73.0]\n",
            " ['Peru' 8.3 74.0]\n",
            " ['Tunisia' 8.3 75.0]\n",
            " ['Italy' 8.2 76.0]\n",
            " ['Madagascar' 8.2 77.0]\n",
            " ['Togo' 8.0 78.0]\n",
            " ['USA' 8.0 79.0]\n",
            " ['Mexico' 7.9 80.0]\n",
            " ['UK' 7.9 81.0]\n",
            " ['Ireland' 7.8 82.0]\n",
            " ['Portugal' 7.8 83.0]\n",
            " ['Bangladesh' 7.7 84.0]\n",
            " ['Denmark' 7.7 85.0]\n",
            " ['Kenya' 7.7 86.0]\n",
            " ['Ant.& Barb.' 7.5 87.0]\n",
            " ['El Salvador' 7.2 88.0]\n",
            " ['New Zealand' 7.2 89.0]\n",
            " ['Uganda' 7.2 90.0]\n",
            " ['Finland' 7.1 91.0]\n",
            " ['South Africa' 7.0 92.0]\n",
            " ['Germany' 6.9 93.0]\n",
            " ['Guatemala' 6.9 94.0]\n",
            " ['Canada' 6.8 95.0]\n",
            " ['Albania' 6.7 96.0]\n",
            " ['India' 6.7 97.0]\n",
            " ['Morocco' 6.7 98.0]\n",
            " ['Australia' 6.6 99.0]\n",
            " ['Saint Lucia' 6.4 100.0]\n",
            " ['Luxembourg' 6.3 101.0]\n",
            " ['Cameroon' 6.2 102.0]\n",
            " ['Malta' 6.2 103.0]\n",
            " ['Namibia' 6.1 104.0]\n",
            " ['Singapore' 6.1 105.0]\n",
            " ['Thailand' 6.1 106.0]\n",
            " ['Chad' 5.8 107.0]\n",
            " ['Norway' 5.8 108.0]\n",
            " ['Philippines' 5.8 109.0]\n",
            " ['St. Vincent & ...' 5.7 110.0]\n",
            " ['Bahamas' 5.6 111.0]\n",
            " ['Bhutan' 5.6 112.0]\n",
            " ['C.A. Republic' 5.6 113.0]\n",
            " ['Solomon Isl.' 5.5 114.0]\n",
            " ['Micronesia' 5.4 115.0]\n",
            " ['Cambodia' 5.3 116.0]\n",
            " ['Ivory Coast' 5.3 117.0]\n",
            " ['Djibouti' 5.2 118.0]\n",
            " ['France' 5.2 119.0]\n",
            " ['South Korea' 5.1 120.0]\n",
            " ['Iraq' 5.0 121.0]\n",
            " ['Qatar' 5.0 122.0]\n",
            " ['Eq. Guinea' 4.8 123.0]\n",
            " ['UA Emirates' 4.8 124.0]\n",
            " ['Fiji' 4.5 125.0]\n",
            " ['Israel' 4.4 126.0]\n",
            " ['Tanzania' 4.4 127.0]\n",
            " ['Gabon' 4.2 128.0]\n",
            " ['Indonesia' 4.2 129.0]\n",
            " ['Jordan' 4.2 130.0]\n",
            " ['Niger' 4.2 131.0]\n",
            " ['Brunei' 3.7 132.0]\n",
            " ['Bahrain' 3.6 133.0]\n",
            " ['Ecuador' 3.5 134.0]\n",
            " ['Malaysia' 3.4 135.0]\n",
            " ['Vietnam' 3.2 136.0]\n",
            " ['R. of Congo' 3.0 137.0]\n",
            " ['Panama' 2.9 138.0]\n",
            " ['Oman' 2.8 139.0]\n",
            " ['Switzerland' 2.8 140.0]\n",
            " ['Japan' 2.5 141.0]\n",
            " ['Saudi Arabia' 2.5 142.0]\n",
            " ['Maldives' 2.3 143.0]\n",
            " ['China' 2.0 144.0]\n",
            " ['Hong Kong' 1.9 145.0]\n",
            " ['Bolivia' 1.7 146.0]\n",
            " ['Benin' 1.4 147.0]\n",
            " ['Macao' 1.0 148.0]]\n"
          ]
        }
      ]
    },
    {
      "cell_type": "code",
      "source": [
        "from sklearn.compose import ColumnTransformer\n",
        "from sklearn.preprocessing import OneHotEncoder\n",
        "ct = ColumnTransformer(transformers=[('encoder', OneHotEncoder(sparse_output=False, handle_unknown='ignore'), [0])], remainder='passthrough')\n",
        "X = np.array(ct.fit_transform(X))"
      ],
      "metadata": {
        "id": "JiYMpQ5vwE3l"
      },
      "execution_count": 133,
      "outputs": []
    },
    {
      "cell_type": "code",
      "source": [
        "print(X)"
      ],
      "metadata": {
        "colab": {
          "base_uri": "https://localhost:8080/"
        },
        "id": "QpKJO0jdwLa-",
        "outputId": "d6ec6775-74b9-432f-cb4d-7647cef6b11f"
      },
      "execution_count": 134,
      "outputs": [
        {
          "output_type": "stream",
          "name": "stdout",
          "text": [
            "[[0.0 0.0 0.0 ... 0.0 138.8 1.0]\n",
            " [0.0 0.0 0.0 ... 1.0 104.7 2.0]\n",
            " [0.0 0.0 0.0 ... 0.0 72.3 3.0]\n",
            " ...\n",
            " [0.0 0.0 0.0 ... 0.0 1.7 146.0]\n",
            " [0.0 0.0 0.0 ... 0.0 1.4 147.0]\n",
            " [0.0 0.0 0.0 ... 0.0 1.0 148.0]]\n"
          ]
        }
      ]
    },
    {
      "cell_type": "code",
      "source": [
        "from sklearn.preprocessing import LabelEncoder\n",
        "le = LabelEncoder()\n",
        "y = le.fit_transform(y)"
      ],
      "metadata": {
        "id": "tpYONtBtwTHb"
      },
      "execution_count": 135,
      "outputs": []
    },
    {
      "cell_type": "code",
      "source": [
        "print(y)"
      ],
      "metadata": {
        "colab": {
          "base_uri": "https://localhost:8080/"
        },
        "id": "B2bKc9wfwaTR",
        "outputId": "db1afe06-2a8e-4b92-ec9d-f9aac62d0638"
      },
      "execution_count": 136,
      "outputs": [
        {
          "output_type": "stream",
          "name": "stdout",
          "text": [
            "[ 0 41  0  0  0  0  5 26 39 24 18 27  0 26 27  6  0 31  7 26 21 27 26 27\n",
            " 13 11  0 28 38 26  0 30 25 38 26 35 29 29 15 11  2 42  2 16 21 21  4 37\n",
            " 33  0 37  0  0  0  8  0  0 21 23 10 18  0  0  0 18 28  0  0  0  0  0  0\n",
            " 14  0 20  0  5  7  0  0  0  0  0 22  0  0 32  0  0 28  0  0  0  0  0 26\n",
            "  0  0  0  6  0  9  0 36  1  0 20  0  0 15  7 18 18 12 33 29  1 17  0  0\n",
            "  0 17 21 40 10  0  6  3  0 10  4 18  6  0  0 30 21  0 34  0  0  4 21 22\n",
            " 19  0 27 24]\n"
          ]
        }
      ]
    },
    {
      "cell_type": "code",
      "source": [
        "from sklearn.model_selection import train_test_split\n",
        "X_train, X_test, y_train, y_test = train_test_split(X, y, test_size = 0.2, random_state = 1)\n"
      ],
      "metadata": {
        "id": "EKkqoaCywj9X"
      },
      "execution_count": 137,
      "outputs": []
    },
    {
      "cell_type": "code",
      "source": [
        "print(X_train)"
      ],
      "metadata": {
        "colab": {
          "base_uri": "https://localhost:8080/"
        },
        "id": "l3zPKD52wqgL",
        "outputId": "d207f78d-6642-4eb3-8495-be9167c2c1f2"
      },
      "execution_count": 138,
      "outputs": [
        {
          "output_type": "stream",
          "name": "stdout",
          "text": [
            "[[0.0 0.0 0.0 ... 0.0 4.4 127.0]\n",
            " [0.0 0.0 0.0 ... 0.0 6.7 98.0]\n",
            " [0.0 0.0 0.0 ... 0.0 11.0 43.0]\n",
            " ...\n",
            " [0.0 0.0 0.0 ... 0.0 8.3 73.0]\n",
            " [0.0 0.0 0.0 ... 0.0 2.5 141.0]\n",
            " [0.0 0.0 0.0 ... 0.0 11.9 38.0]]\n"
          ]
        }
      ]
    },
    {
      "cell_type": "code",
      "source": [
        "print(X_test)"
      ],
      "metadata": {
        "colab": {
          "base_uri": "https://localhost:8080/"
        },
        "id": "YWio7vSAwuF5",
        "outputId": "045d4642-4567-4930-e3e4-3e7001876b34"
      },
      "execution_count": 139,
      "outputs": [
        {
          "output_type": "stream",
          "name": "stdout",
          "text": [
            "[[0.0 0.0 0.0 ... 0.0 6.3 101.0]\n",
            " [0.0 0.0 0.0 ... 0.0 5.0 122.0]\n",
            " [0.0 0.0 0.0 ... 0.0 9.7 55.0]\n",
            " ...\n",
            " [0.0 0.0 0.0 ... 0.0 10.5 49.0]\n",
            " [0.0 0.0 0.0 ... 0.0 7.2 90.0]\n",
            " [0.0 0.0 0.0 ... 0.0 2.3 143.0]]\n"
          ]
        }
      ]
    },
    {
      "cell_type": "code",
      "source": [
        "print(y_train)"
      ],
      "metadata": {
        "colab": {
          "base_uri": "https://localhost:8080/"
        },
        "id": "qoNFpGxtwz4R",
        "outputId": "59cd98d2-d5d4-4f96-ec13-70004335fd6f"
      },
      "execution_count": 140,
      "outputs": [
        {
          "output_type": "stream",
          "name": "stdout",
          "text": [
            "[ 6  0  2 30 38  2 17  1 31 18  0  0 20  7  0 21  0 11 29  0 19  0 10  0\n",
            " 40  0  0 27  4  6  0  0 22 18  0  5  0  0 28  0  7 21  4  0 33  0  0  0\n",
            " 18 26 25 21 15 22 15 24 28 27  0 24  0 26 36 18  0 34  0 18  6  0 42  0\n",
            "  0  0  5 16 13  0 12  3  0 27  0  0 27  0  0 20 37 29 26  0 39  0 18  0\n",
            " 41 21 26  0  0 26 32  0  0 37  9 21 11  0  0 10  0  0  0 14  0 29]\n"
          ]
        }
      ]
    },
    {
      "cell_type": "code",
      "source": [
        "print(y_test)"
      ],
      "metadata": {
        "colab": {
          "base_uri": "https://localhost:8080/"
        },
        "id": "PUmtXFViw3ia",
        "outputId": "bd2cdfc4-eb65-4e9f-a6b5-d3e955c460e2"
      },
      "execution_count": 141,
      "outputs": [
        {
          "output_type": "stream",
          "name": "stdout",
          "text": [
            "[ 0 17  8  1  6  0  0  0 21 10  0  0  0 27 23 38  0 26  0 35  0  0 30  4\n",
            "  7 26  0 33 28 21]\n"
          ]
        }
      ]
    },
    {
      "cell_type": "code",
      "source": [
        "from sklearn.preprocessing import StandardScaler\n",
        "sc = StandardScaler()\n",
        "X_train[:, 3:] = sc.fit_transform(X_train[:, 3:])\n",
        "X_test[:, 3:] = sc.transform(X_test[:, 3:])"
      ],
      "metadata": {
        "id": "5Ur6S54Hw6vH"
      },
      "execution_count": 142,
      "outputs": []
    },
    {
      "cell_type": "code",
      "source": [
        "print(X_train)"
      ],
      "metadata": {
        "colab": {
          "base_uri": "https://localhost:8080/"
        },
        "id": "_J2eFRRo770Q",
        "outputId": "13ab08b8-0096-45bc-8ae6-b3f96dda618b"
      },
      "execution_count": 143,
      "outputs": [
        {
          "output_type": "stream",
          "name": "stdout",
          "text": [
            "[[0.0 0.0 0.0 ... -0.0924500327042049 -0.4503704861693114\n",
            "  1.167542539999475]\n",
            " [0.0 0.0 0.0 ... -0.0924500327042049 -0.3185997337476307\n",
            "  0.5065017438581443]\n",
            " [0.0 0.0 0.0 ... -0.0924500327042049 -0.07224571835057537\n",
            "  -0.7471963177892073]\n",
            " ...\n",
            " [0.0 0.0 0.0 ... -0.0924500327042049 -0.22693312336733099\n",
            "  -0.06336101143610642]\n",
            " [0.0 0.0 0.0 ... -0.0924500327042049 -0.5592245859959173\n",
            "  1.4866656829642555]\n",
            " [0.0 0.0 0.0 ... -0.0924500327042049 -0.020683250011656808\n",
            "  -0.8611688688480574]]\n"
          ]
        }
      ]
    },
    {
      "cell_type": "code",
      "source": [
        "print(X_test)"
      ],
      "metadata": {
        "colab": {
          "base_uri": "https://localhost:8080/"
        },
        "id": "luMUhjpd8Cd9",
        "outputId": "9d40f651-c89d-4a13-91d7-64cf5b008660"
      },
      "execution_count": 144,
      "outputs": [
        {
          "output_type": "stream",
          "name": "stdout",
          "text": [
            "[[0.0 0.0 0.0 ... -0.0924500327042049 -0.3415163863427056\n",
            "  0.5748852744934544]\n",
            " [0.0 0.0 0.0 ... -0.0924500327042049 -0.41599550727669904\n",
            "  1.053569988940625]\n",
            " [0.0 0.0 0.0 ... -0.0924500327042049 -0.1467248392845689\n",
            "  -0.47366219524796693]\n",
            " ...\n",
            " [0.0 0.0 0.0 ... -0.0924500327042049 -0.10089153409441902\n",
            "  -0.610429256518587]\n",
            " [0.0 0.0 0.0 ... -0.0924500327042049 -0.289953918003787\n",
            "  0.32414566216398405]\n",
            " [0.0 0.0 0.0 ... -0.0924500327042049 -0.5706829122934548\n",
            "  1.5322547033877956]]\n"
          ]
        }
      ]
    }
  ]
}