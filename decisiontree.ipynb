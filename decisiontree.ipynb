{
  "nbformat": 4,
  "nbformat_minor": 0,
  "metadata": {
    "colab": {
      "provenance": [],
      "authorship_tag": "ABX9TyOzZveheaqIC4AmKgLUsT4o",
      "include_colab_link": true
    },
    "kernelspec": {
      "name": "python3",
      "display_name": "Python 3"
    },
    "language_info": {
      "name": "python"
    }
  },
  "cells": [
    {
      "cell_type": "markdown",
      "metadata": {
        "id": "view-in-github",
        "colab_type": "text"
      },
      "source": [
        "<a href=\"https://colab.research.google.com/github/MichaelArgs/Tugas-PenambanganData/blob/main/decisiontree.ipynb\" target=\"_parent\"><img src=\"https://colab.research.google.com/assets/colab-badge.svg\" alt=\"Open In Colab\"/></a>"
      ]
    },
    {
      "cell_type": "code",
      "execution_count": 12,
      "metadata": {
        "id": "3nqbwo4C6HUu"
      },
      "outputs": [],
      "source": [
        "import numpy as np\n",
        "import pandas as pd\n",
        "from sklearn import tree\n",
        "\n",
        "file_path = 'Dataset Iris.csv'\n",
        "irisDataset = pd.read_csv(file_path, delimiter=';')\n",
        "\n",
        "irisDataset[\"Species\"] = pd.factorize(irisDataset[\"Species\"])[0]\n",
        "\n",
        "irisDataset = irisDataset.drop(columns=[\"Id\"])\n",
        "\n",
        "iris_array = irisDataset.to_numpy()"
      ]
    },
    {
      "cell_type": "code",
      "source": [
        "dataTraining = np.concatenate((iris_array[0:40, :], iris_array[50:90, :]), axis=0)\n",
        "dataTesting = np.concatenate((iris_array[40:50, :], iris_array[90:100, :]), axis=0)\n",
        "\n",
        "inputTraining = dataTraining[:, 0:4]\n",
        "labelTraining = dataTraining[:, 4]\n",
        "inputTesting = dataTesting[:, 0:4]\n",
        "labelTesting = dataTesting[:, 4]"
      ],
      "metadata": {
        "id": "TVA1_76O9sjt"
      },
      "execution_count": 13,
      "outputs": []
    },
    {
      "cell_type": "code",
      "source": [
        "model = tree.DecisionTreeClassifier()\n",
        "\n",
        "model.fit(inputTraining, labelTraining)\n",
        "\n",
        "hasilPrediksi = model.predict(inputTesting)\n",
        "print(\"Label Sebenarnya:\", labelTesting)\n",
        "print(\"Hasil Prediksi  :\", hasilPrediksi)\n",
        "\n",
        "prediksiBenar = (hasilPrediksi == labelTesting).sum()\n",
        "prediksiSalah = (hasilPrediksi != labelTesting).sum()\n",
        "\n",
        "print(\"Prediksi Benar  :\", prediksiBenar, \"data\")\n",
        "print(\"Prediksi Salah  :\", prediksiSalah, \"data\")\n",
        "print(\"Akurasi         :\", (prediksiBenar / (prediksiBenar + prediksiSalah)) * 100, \"%\")"
      ],
      "metadata": {
        "colab": {
          "base_uri": "https://localhost:8080/"
        },
        "id": "RVl2Unqq9sxb",
        "outputId": "56d9a222-a478-4e48-8483-2358399ffd45"
      },
      "execution_count": 14,
      "outputs": [
        {
          "output_type": "stream",
          "name": "stdout",
          "text": [
            "Label Sebenarnya: [0. 0. 0. 0. 0. 0. 0. 0. 0. 0. 1. 1. 1. 1. 1. 1. 1. 1. 1. 1.]\n",
            "Hasil Prediksi  : [0. 0. 0. 0. 0. 0. 0. 0. 0. 0. 1. 1. 1. 1. 1. 1. 1. 1. 1. 1.]\n",
            "Prediksi Benar  : 20 data\n",
            "Prediksi Salah  : 0 data\n",
            "Akurasi         : 100.0 %\n"
          ]
        }
      ]
    }
  ]
}